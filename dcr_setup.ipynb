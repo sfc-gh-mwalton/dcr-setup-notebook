{
  "nbformat": 4,
  "nbformat_minor": 0,
  "metadata": {
    "colab": {
      "name": "dcr_setup.ipynb",
      "private_outputs": true,
      "provenance": [],
      "collapsed_sections": [],
      "authorship_tag": "ABX9TyN08gmby3u1TQeckXeYYC0H",
      "include_colab_link": true
    },
    "kernelspec": {
      "name": "python3",
      "display_name": "Python 3"
    },
    "language_info": {
      "name": "python"
    }
  },
  "cells": [
    {
      "cell_type": "markdown",
      "metadata": {
        "id": "view-in-github",
        "colab_type": "text"
      },
      "source": [
        "<a href=\"https://colab.research.google.com/github/sfc-gh-mwalton/dcr-setup-notebook/blob/main/dcr_setup.ipynb\" target=\"_parent\"><img src=\"https://colab.research.google.com/assets/colab-badge.svg\" alt=\"Open In Colab\"/></a>"
      ]
    },
    {
      "cell_type": "code",
      "execution_count": null,
      "metadata": {
        "id": "TXkDpax0unzO"
      },
      "outputs": [],
      "source": [
        "import snowflake_conn as sfc\n",
        "import snowflake_dcr as dcr"
      ]
    },
    {
      "cell_type": "code",
      "source": [
        "!pip install git+https://github.com/sfc-gh-mwalton/dcr-setup-notebook/snowflake_conn"
      ],
      "metadata": {
        "id": "fxLgtiU_ur8p"
      },
      "execution_count": null,
      "outputs": []
    },
    {
      "cell_type": "code",
      "source": [
        "!git clone https://github.com/sfc-gh-mwalton/dcr-setup-notebook"
      ],
      "metadata": {
        "id": "LnYupAXdwQtD"
      },
      "execution_count": null,
      "outputs": []
    },
    {
      "cell_type": "code",
      "source": [
        ""
      ],
      "metadata": {
        "id": "hvQWutO6x4KN"
      },
      "execution_count": null,
      "outputs": []
    }
  ]
}